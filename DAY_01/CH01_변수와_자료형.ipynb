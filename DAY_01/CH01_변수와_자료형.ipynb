{
 "cells": [
  {
   "cell_type": "markdown",
   "metadata": {},
   "source": [
    "강사 한지훈"
   ]
  },
  {
   "cell_type": "markdown",
   "metadata": {},
   "source": [
    "\n",
    "\n",
    "- 제공한 강의 및 강의자료 등의 다양한 저작물들은 저작권법 제 25조에 따라 수업 목적으로 허용한 범위 안에서만 제공하고 있습니다.\n",
    "- 그 범위를 넘어 저작물들이 이용되는 경우, 저작권 침해 문제가 발생할 수 있습니다.\n",
    "- 저작권 소유자의 승인 없이 복사, 녹화, 복제, 배포, 게시, 전송 등의 방법을 통해 공유 되는 것은 저작권 소유자의 사전 서면 승인된 경우를 제외하고 일체 허용하지 않습니다.\n",
    "\n",
    "- 저작권 문의 : <a href=\"mailto:contact@hanjihoon.com\">contact@hanjihoon.com</a>\n",
    "\n",
    "---"
   ]
  },
  {
   "cell_type": "markdown",
   "metadata": {},
   "source": [
    "###### CHAPTER 01\n",
    "\n",
    "# 변수와 자료형\n",
    "\n",
    "___"
   ]
  },
  {
   "cell_type": "markdown",
   "metadata": {},
   "source": [
    "###### 개념설명\n",
    "# 변수에 대하여\n",
    "\n",
    "- `변수`는 `데이터를 저장하는 공간`입니다.\n",
    "- 위의 코드에서 `대입연산자 =`를 이용하여 변수에 값을 저장하고 있습니다.\n",
    "- 대입연산자 =의 `좌변에는 변수의 이름`이, `우변에는 해당 이름의 변수에 저장할 값`을 입력합니다.\n",
    "- 변수에 저장된 값을 사용할 때에는 변수의 이름을 통해서 사용할 수 있습니다."
   ]
  },
  {
   "cell_type": "code",
   "execution_count": null,
   "metadata": {},
   "outputs": [],
   "source": [
    "# 이 셀의 코드를 실행하세요\n",
    "\n",
    "a = 10\n",
    "print(a)\n",
    "print(type(a))"
   ]
  },
  {
   "cell_type": "markdown",
   "metadata": {},
   "source": [
    "- 변수에는 10과 같은 `정수(int)`만 저장할 수 있는 것은 아닙니다.\n",
    "- 파이썬에서 사용할 수 있는 모든 값을 저장할 수 있습니다.\n",
    "- 위의 코드는 \"a\"라는 `문자열(str)` 형태의 `글자, 단어, 문장과 같은 값`을 저장하는 코드입니다.\n",
    "- 문자열은 `큰따옴표` 혹은 `작은따옴표`로 감싸 만들어낼 수 있습니다."
   ]
  },
  {
   "cell_type": "code",
   "execution_count": null,
   "metadata": {},
   "outputs": [],
   "source": [
    "# 이 셀의 코드를 실행하세요\n",
    "\n",
    "b = \"a\"\n",
    "print(b)\n",
    "print(type(b))"
   ]
  },
  {
   "cell_type": "markdown",
   "metadata": {},
   "source": [
    "- 이 외에도 `실수형(float)`와 `논리형(Boolean)`과 같은 다양한 형태의 자료를 저장할 수 있습니다."
   ]
  },
  {
   "cell_type": "code",
   "execution_count": null,
   "metadata": {},
   "outputs": [],
   "source": [
    "# 이 셀의 코드를 실행하세요\n",
    "\n",
    "c = 3.14\n",
    "print(c)\n",
    "print(type(c))"
   ]
  },
  {
   "cell_type": "code",
   "execution_count": null,
   "metadata": {},
   "outputs": [],
   "source": [
    "# 이 셀의 코드를 실행하세요\n",
    "\n",
    "d = True\n",
    "print(d)\n",
    "print(type(d))"
   ]
  },
  {
   "cell_type": "markdown",
   "metadata": {},
   "source": [
    "---"
   ]
  },
  {
   "cell_type": "markdown",
   "metadata": {},
   "source": [
    "###### 개념설명\n",
    "# 다양한 자료형에 대하여"
   ]
  },
  {
   "cell_type": "markdown",
   "metadata": {},
   "source": [
    "\n",
    "## 리스트에 대하여\n",
    "\n",
    "- `리스트(list)`는 우리가 이전에 배웠던 `정수형(int)`, `문자열(str)`, `논리형(boolean)`과 같은 자료의 형태를 의미합니다.\n",
    "- 리스트는` 인덱스를 이용하여 자료의 위치를 나타내는 나열 가능한 자료형`을 의미합니다.\n",
    "- 리스트는 `여러 개의 데이터를 하나의 이름으로 통합적으로 관리`하는데 그 목적을 가집니다.\n",
    "- 리스트는 `여러 개의 다양한 자료형을 담아서 그 순서`를 붙여 데이터를 관리합니다."
   ]
  },
  {
   "cell_type": "markdown",
   "metadata": {},
   "source": [
    "### 리스트의 생성\n",
    "\n",
    "- 아래에서는 리스트를 생성하는 여러 방법에 대해 설명합니다.\n",
    "- 아래처럼 나열을 원하는 데이터를 `대괄호 안에 쉼표 구분`하여 입력하여 주면 리스트를 만들어 낼 수 있습니다."
   ]
  },
  {
   "cell_type": "code",
   "execution_count": null,
   "metadata": {
    "ExecuteTime": {
     "end_time": "2023-05-31T02:16:35.101921Z",
     "start_time": "2023-05-31T02:16:34.957368Z"
    }
   },
   "outputs": [],
   "source": [
    "# 이 셀의 코드를 실행하세요\n",
    "\n",
    "even_numbers = [2, 4, 6, 8, 10]\n",
    "print(even_numbers)\n",
    "print(type(even_numbers))"
   ]
  },
  {
   "cell_type": "markdown",
   "metadata": {},
   "source": [
    "- 하나의 리스트에는 다양한 자료가 포함될 수 있으며, 리스트 안에 리스트를 중첩시킬 수도 있습니다."
   ]
  },
  {
   "cell_type": "code",
   "execution_count": null,
   "metadata": {
    "ExecuteTime": {
     "end_time": "2023-05-31T02:16:35.102733Z",
     "start_time": "2023-05-31T02:16:34.966036Z"
    }
   },
   "outputs": [],
   "source": [
    "# 이 셀의 코드를 실행하세요\n",
    "\n",
    "mess_list = [1, True, \"Hello\", [1, 2, 3]]\n",
    "print(mess_list)\n",
    "print(type(mess_list))"
   ]
  },
  {
   "cell_type": "markdown",
   "metadata": {},
   "source": [
    "### 인덱스로 리스트 인자 접근하기\n",
    "\n",
    "- 아래에서는 인덱스를 통하여 리스트의 인자에 접근하는 방식에 대해서 설명합니다.\n",
    "- 이러한 리스트에서 각 자료를 조회하거나 수정하고 싶다면 그 순서를 통하여 접근할 수 있습니다.\n",
    "- 이때의 순서를 `인덱스`라고 이야기 합니다.\n",
    "- 이러한 인덱스는 몇가지 역사적, 물리적 이유로 `0`부터 시작합니다."
   ]
  },
  {
   "cell_type": "code",
   "execution_count": null,
   "metadata": {
    "ExecuteTime": {
     "end_time": "2023-05-31T02:16:35.159412Z",
     "start_time": "2023-05-31T02:16:34.974309Z"
    }
   },
   "outputs": [],
   "source": [
    "# 이 셀의 코드를 실행하세요\n",
    "\n",
    "print(mess_list[0])\n",
    "print(type(mess_list[0]))"
   ]
  },
  {
   "cell_type": "code",
   "execution_count": null,
   "metadata": {},
   "outputs": [],
   "source": [
    "# 이 셀의 코드를 실행하세요\n",
    "\n",
    "print(mess_list[2])\n",
    "print(type(mess_list[2]))"
   ]
  },
  {
   "cell_type": "markdown",
   "metadata": {},
   "source": [
    "### 리스트 슬라이싱에 대해\n",
    "- 리스트의 인덱스를 이용하여 리스트의 범위를 지정할 수 있습니다.\n",
    "- 리스트 슬라이싱은 [시작 인덱스:끝 인덱스] 형태로 사용합니다.\n",
    "- 끝 인덱스는 끝 인덱스 - 1 까지만 포함됩니다."
   ]
  },
  {
   "cell_type": "code",
   "execution_count": null,
   "metadata": {
    "ExecuteTime": {
     "end_time": "2023-05-31T02:16:35.160192Z",
     "start_time": "2023-05-31T02:16:34.985475Z"
    }
   },
   "outputs": [],
   "source": [
    "# 이 셀의 코드를 실행하세요\n",
    "\n",
    "weekdays = ['mon', 'tue', 'wed', 'thu', 'fri', 'sat', 'sun']\n",
    "print(weekdays[0:4])"
   ]
  },
  {
   "cell_type": "markdown",
   "metadata": {},
   "source": [
    "### 리스트에 데이터를 추가하거나 합치기"
   ]
  },
  {
   "cell_type": "markdown",
   "metadata": {},
   "source": [
    "- 리스트에 값을 추가하거나 리스트끼리 합칠 수 있습니다.\n",
    "- 리스트에 `값을 추가`할때에는 `append` 함수를 사용합니다.\n",
    "    - 가장 마지막에 값이 추가됩니다."
   ]
  },
  {
   "cell_type": "code",
   "execution_count": null,
   "metadata": {},
   "outputs": [],
   "source": [
    "# 이 셀의 코드를 실행하세요\n",
    "\n",
    "even_numbers.append(12)\n",
    "print(even_numbers)"
   ]
  },
  {
   "cell_type": "markdown",
   "metadata": {},
   "source": [
    "- 리스트끼리 `합칠 때`에는 `extend` 함수를 사용합니다.\n",
    "    - 아래 코드는 `mess_list` 리스트 끝에 `even_numbers` 리스트의 요소들을 끝에 합치는 코드입니다.\n",
    "    - 리스트가 하나의 요소로 추가되는 것이 아닌, `실제로 각 요소들이 합쳐짐`에 주의하세요."
   ]
  },
  {
   "cell_type": "code",
   "execution_count": null,
   "metadata": {},
   "outputs": [],
   "source": [
    "# 이 셀의 코드를 실행하세요\n",
    "\n",
    "mess_list.extend(even_numbers)\n",
    "print(mess_list)"
   ]
  },
  {
   "cell_type": "markdown",
   "metadata": {},
   "source": [
    "---\n",
    "\n",
    "###### 개념설명\n",
    "## 문자열에 대하여\n",
    "\n",
    "- 문자열은 `단어 혹은 문장과 같은 문자들의 집합체`를 의미합니다.\n",
    "- 이를 나타내기 위해서 `큰따옴표 혹은 작은 따옴표`로 감싸 표현합니다.\n",
    "- `따옴표로 감싼 자료는 그 내용과 상관없이 항상 문자열로 취급`됩니다."
   ]
  },
  {
   "cell_type": "markdown",
   "metadata": {},
   "source": [
    "### 문자열의 생성\n",
    "\n",
    "- `큰 따옴표 혹은 작은 따옴표`로 데이터를 감싸 문자열을 만들 수 있습니다."
   ]
  },
  {
   "cell_type": "code",
   "execution_count": null,
   "metadata": {
    "ExecuteTime": {
     "end_time": "2023-05-31T02:16:35.162432Z",
     "start_time": "2023-05-31T02:16:35.015793Z"
    }
   },
   "outputs": [],
   "source": [
    "# 이 셀의 코드를 실행하세요\n",
    "\n",
    "text = \"Hello World\"\n",
    "print(text)\n",
    "print(type(text))"
   ]
  },
  {
   "cell_type": "markdown",
   "metadata": {},
   "source": [
    "\n",
    "- 따옴표로 감싼 자료는 `그 실제 값과 관계없이 항상 문자열`이 됩니다.\n"
   ]
  },
  {
   "cell_type": "code",
   "execution_count": null,
   "metadata": {
    "ExecuteTime": {
     "end_time": "2023-05-31T02:16:35.162511Z",
     "start_time": "2023-05-31T02:16:35.017889Z"
    }
   },
   "outputs": [],
   "source": [
    "# 이 셀의 코드를 실행하세요\n",
    "\n",
    "num = \"1\"\n",
    "print(num)\n",
    "print(type(num))"
   ]
  },
  {
   "cell_type": "markdown",
   "metadata": {},
   "source": [
    "- 같은 따옴표를 연속하여 사용할 수 없습니다.\n",
    "- 따옴표를 표기할 때에는 각기 다른 수준의 따옴표를 사용하여야 합니다."
   ]
  },
  {
   "cell_type": "code",
   "execution_count": null,
   "metadata": {
    "ExecuteTime": {
     "end_time": "2023-05-31T02:16:35.162557Z",
     "start_time": "2023-05-31T02:16:35.021322Z"
    }
   },
   "outputs": [],
   "source": [
    "# 이 셀의 코드를 실행하세요\n",
    "\n",
    "print(\"Hello \"World\"\")\n",
    "print('Hello 'World'')"
   ]
  },
  {
   "cell_type": "markdown",
   "metadata": {},
   "source": [
    "### 문자열 포매팅\n",
    "- f-string을 이용하여 `문자열과 변수의 값을` 함께 나타낼 수 있습니다.\n",
    "- `따옴표로 감싼 문자열 바깥 부분에 f`를 작성하여 나타냅니다.\n",
    "- `중괄호 안에 변수의 이름`을 작성합니다."
   ]
  },
  {
   "cell_type": "code",
   "execution_count": null,
   "metadata": {
    "ExecuteTime": {
     "end_time": "2023-05-31T02:16:35.163035Z",
     "start_time": "2023-05-31T02:16:35.027306Z"
    }
   },
   "outputs": [],
   "source": [
    "# 이 셀의 코드를 실행하세요\n",
    "\n",
    "price = 10000\n",
    "payment = \"신용카드\"\n",
    "\n",
    "alert = f\"{price}원을 {payment}(으)로 결제합니다.\"\n",
    "print(alert)\n",
    "print(type(alert))"
   ]
  },
  {
   "cell_type": "markdown",
   "metadata": {},
   "source": [
    "---\n",
    "###### 개념설명\n",
    "## 사전형 데이터에 대해서\n",
    "\n",
    "- 사전형 데이터는 `키와 값의 쌍`으로 이루어진 데이터입니다.\n",
    "- `키는 값에 대한 식별자 역할`을 하며,` 값은 키에 대응하는 데이터`를 의미합니다.\n",
    "- 사전형 데이터는 `중괄호({})를 이용하여 생성`합니다.\n",
    "- `키와 값은 콜론(:)을 이용하여 구분`합니다.\n",
    "- 서로다른 각각의 `키와 값의 쌍은 쉼표(,)를 이용하여 구분`합니다.\n"
   ]
  },
  {
   "cell_type": "markdown",
   "metadata": {},
   "source": [
    "### 사전형 데이터 생성하기\n",
    "\n",
    "- 사전형(딕셔너리) 데이터는 `중괄호를 통하여 생성`할 수 있습니다.\n",
    "- 딕셔너리의 `값은 다양한 자료형`이 될 수 있습니다."
   ]
  },
  {
   "cell_type": "code",
   "execution_count": null,
   "metadata": {
    "ExecuteTime": {
     "end_time": "2023-05-31T02:16:35.169309Z",
     "start_time": "2023-05-31T02:16:35.079114Z"
    }
   },
   "outputs": [],
   "source": [
    "# 이 셀의 코드를 실행하세요\n",
    "\n",
    "this_is_dict = {'a': 1, 'b': '2', 'c': 3.14, 'd': True, 'e': [1, 2]}\n",
    "print(this_is_dict)\n",
    "print(type(this_is_dict))"
   ]
  },
  {
   "cell_type": "markdown",
   "metadata": {},
   "source": [
    "### 사전형 데이터 추가하고 변경하기\n",
    "\n",
    "- `키를 통하여 값을 추가하거나 변경`할 수 있습니다."
   ]
  },
  {
   "cell_type": "code",
   "execution_count": null,
   "metadata": {},
   "outputs": [],
   "source": [
    "# 이 셀의 코드를 실행하세요\n",
    "\n",
    "personal_info = {'name': 'John Doe', \"phone\": \"Samsung Galaxy S24 Ultra\"}\n",
    "print(personal_info)\n",
    "print(type(personal_info))"
   ]
  },
  {
   "cell_type": "markdown",
   "metadata": {},
   "source": [
    "- 딕셔너리의 `값을 조회할 때에는 키의 이름을 통하여 값을 조회`할 수 있습니다."
   ]
  },
  {
   "cell_type": "code",
   "execution_count": null,
   "metadata": {},
   "outputs": [],
   "source": [
    "print(personal_info['phone'])\n",
    "print(type(personal_info['phone']))"
   ]
  },
  {
   "cell_type": "markdown",
   "metadata": {},
   "source": [
    "- 키를 통하여 값을 추가할 수 있습니다.\n",
    "- `키가 존재하지 않으면 해당 딕셔너리에 키와 값의 쌍을 추가`합니다."
   ]
  },
  {
   "cell_type": "code",
   "execution_count": null,
   "metadata": {
    "ExecuteTime": {
     "end_time": "2023-05-31T02:16:35.169769Z",
     "start_time": "2023-05-31T02:16:35.090638Z"
    }
   },
   "outputs": [],
   "source": [
    "# 이 셀의 코드를 실행하세요\n",
    "\n",
    "personal_info[\"company\"] = \"Samsung Electronics\"\n",
    "print(personal_info)\n",
    "print(type(personal_info))"
   ]
  },
  {
   "cell_type": "markdown",
   "metadata": {},
   "source": [
    "- 키 값을 통하여 값을 수정할 수 있습니다.\n",
    "- `키 값이 존재하면 해당 키에 해당하는 값을 수정`합니다."
   ]
  },
  {
   "cell_type": "code",
   "execution_count": null,
   "metadata": {},
   "outputs": [],
   "source": [
    "# 이 셀의 코드를 실행하세요\n",
    "\n",
    "personal_info[\"company\"] = \"Apple Inc\"\n",
    "print(personal_info)\n",
    "print(type(personal_info))"
   ]
  },
  {
   "cell_type": "markdown",
   "metadata": {},
   "source": [
    "### 사전형 데이터 키와 값 불러오기\n",
    "\n",
    "- 키값을 통하여 값을 불러올 수 있습니다.\n",
    "- `keys()` 함수를 통하여 딕셔너리의 `키`를 `리스트`로 반환할 수 있습니다.\n",
    "- `values()` 함수를 통하여 딕셔너리의 `값`을 `리스트`로 반환할 수 있습니다.\n",
    "- `items()` 함수를 통하여 `딕셔너리의 키와 값의 쌍`을 `리스트`로 반환할 수 있습니다."
   ]
  },
  {
   "cell_type": "markdown",
   "metadata": {},
   "source": [
    "###### 참고사항\n",
    "\n",
    "- 위의 keys(), values(), items() 함수들은 리스트를 반환하는 것이 아닌 `dict_keys, dict_values, dict_items` 자료형 형태로 반환합니다.\n",
    "- 이 객체들은 리스트와 유사하지만 리스트의 내장 함수들을 사용할 수 없습니다.\n",
    "- 리스트처럼 인덱스로 접근할 수도 없습니다.\n",
    "- 이 객체들을 `리스트로 변환하려면 list()를 이용`하면 됩니다."
   ]
  },
  {
   "cell_type": "markdown",
   "metadata": {},
   "source": [
    "- keys() 함수를 통하여 딕셔너리의 키값들을 리스트로 반환할 수 있습니다.\n",
    "- 해당 자료형은 직접 데이터를 수정할 수 없습니다."
   ]
  },
  {
   "cell_type": "code",
   "execution_count": null,
   "metadata": {},
   "outputs": [],
   "source": [
    "# 이 셀의 코드를 실행하세요\n",
    "\n",
    "print(personal_info.keys())\n",
    "print(type(personal_info.keys()))"
   ]
  },
  {
   "cell_type": "code",
   "execution_count": null,
   "metadata": {},
   "outputs": [],
   "source": [
    "# 이 셀의 코드를 실행하세요\n",
    "\n",
    "print(list(personal_info.keys()))\n",
    "print(type(list(personal_info.keys())))"
   ]
  },
  {
   "cell_type": "markdown",
   "metadata": {},
   "source": [
    "- values() 함수를 통하여 딕셔너리의 값들을 리스트로 반환할 수 있습니다.\n",
    "- 해당 자료형은 직접 데이터를 수정할 수 없습니다."
   ]
  },
  {
   "cell_type": "code",
   "execution_count": null,
   "metadata": {},
   "outputs": [],
   "source": [
    "# 이 셀의 코드를 실행하세요\n",
    "\n",
    "print(personal_info.values())\n",
    "print(type(personal_info.values()))"
   ]
  },
  {
   "cell_type": "code",
   "execution_count": null,
   "metadata": {},
   "outputs": [],
   "source": [
    "# 이 셀의 코드를 실행하세요\n",
    "\n",
    "print(list(personal_info.values()))\n",
    "print(type(list(personal_info.values())))"
   ]
  },
  {
   "cell_type": "markdown",
   "metadata": {},
   "source": [
    "- items() 함수를 통하여 딕셔너리의 키와 값의 쌍들을 리스트로 반환할 수 있습니다."
   ]
  },
  {
   "cell_type": "code",
   "execution_count": null,
   "metadata": {},
   "outputs": [],
   "source": [
    "# 이 셀의 코드를 실행하세요\n",
    "\n",
    "print(personal_info.items())\n",
    "print(type(personal_info.items()))"
   ]
  },
  {
   "cell_type": "code",
   "execution_count": null,
   "metadata": {},
   "outputs": [],
   "source": [
    "# 이 셀의 코드를 실행하세요\n",
    "\n",
    "print(list(personal_info.items()))\n",
    "print(type(list(personal_info.items())))"
   ]
  }
 ],
 "metadata": {
  "kernelspec": {
   "display_name": "Python 3 (ipykernel)",
   "language": "python",
   "name": "python3"
  },
  "language_info": {
   "codemirror_mode": {
    "name": "ipython",
    "version": 3
   },
   "file_extension": ".py",
   "mimetype": "text/x-python",
   "name": "python",
   "nbconvert_exporter": "python",
   "pygments_lexer": "ipython3",
   "version": "3.11.5"
  }
 },
 "nbformat": 4,
 "nbformat_minor": 1
}
