{
 "cells": [
  {
   "cell_type": "markdown",
   "metadata": {},
   "source": [
    "강사 한지훈"
   ]
  },
  {
   "cell_type": "markdown",
   "metadata": {},
   "source": [
    "\n",
    "\n",
    "- 제공한 강의 및 강의자료 등의 다양한 저작물들은 저작권법 제 25조에 따라 수업 목적으로 허용한 범위 안에서만 제공하고 있습니다.\n",
    "- 그 범위를 넘어 저작물들이 이용되는 경우, 저작권 침해 문제가 발생할 수 있습니다.\n",
    "- 저작권 소유자의 승인 없이 복사, 녹화, 복제, 배포, 게시, 전송 등의 방법을 통해 공유 되는 것은 저작권 소유자의 사전 서면 승인된 경우를 제외하고 일체 허용하지 않습니다.\n",
    "\n",
    "- 저작권 문의 : <a href=\"mailto:contact@hanjihoon.com\">contact@hanjihoon.com</a>\n",
    "\n",
    "---"
   ]
  },
  {
   "cell_type": "markdown",
   "metadata": {},
   "source": [
    "###### CHAPTER 04\n",
    "# 라이브러리\n",
    "---\n",
    "###### 개념설명\n",
    "## 라이브러리에 대해서\n",
    "-  기본적으로 혹은 `누군가에 의하여 미리 정의되어 있는 기능 및 동작을 수행할 수 있는 코드의 모음`입니다.\n",
    "- 우리는 `컴퓨터에 특정 기능의 프로그램을 설치하고 실행`하여 사용합니다.\n",
    "- 파이썬에서도 `라이브러리를 설치하고 불러와 다른 사람이 만든 기능을 나의 코드에서 사용`할 수 있습니다.\n",
    "- 라이브러리에는 별도의 설치가 필요한 라이브러리가 있으며, 별도의 설치가 필요없이 사용할 수 있는 라이브러리가 있습니다.\n",
    "\n",
    "- 우리가 프로그램을 `설치`하고 `실행`까지 해주어야 하듯이, 우리가 `설치한 라이브러리를 사용할 때에는 해당 라이브러리를 불러오기(import)` 해주어야 합니다."
   ]
  },
  {
   "cell_type": "markdown",
   "metadata": {},
   "source": [
    "###### 개념설명\n",
    "### 1. import 라이브러리명\n",
    "\n",
    "- 라이브러리 전체를 불러올 수 있습니다\n",
    "- 라이브러리명을 사용시마다 앞에 붙여야 합니다"
   ]
  },
  {
   "cell_type": "markdown",
   "metadata": {},
   "source": [
    "- 아래는 랜덤한 수를 생성하는 `random 라이브러리`를 불러오고, random 라이브러리에 미리 만들어져있는 `randint라는 범위 내의 임의의 정수를 추출하는 함수`를 이용하는 코드입니다.\n",
    "- 라이브러리에 포함되어 있는 함수를 이용하여 생성된 정수의 `짝수와 홀수 여부를 반환`합니다."
   ]
  },
  {
   "cell_type": "code",
   "execution_count": null,
   "metadata": {
    "ExecuteTime": {
     "end_time": "2023-05-31T02:20:14.534203Z",
     "start_time": "2023-05-31T02:20:14.513955Z"
    }
   },
   "outputs": [],
   "source": [
    "# 이 셀의 코드를 실행하세요\n",
    "\n",
    "import random\n",
    "\n",
    "num = random.randint(1, 10)\n",
    "\n",
    "if num % 2:\n",
    "    print(f\"{num}은 홀수입니다.\")\n",
    "else:\n",
    "    print(f\"{num}은 짝수입니다.\")"
   ]
  },
  {
   "cell_type": "markdown",
   "metadata": {},
   "source": [
    "###### 개념설명\n",
    "### 2. import 라이브러리명 as 별칭\n",
    "\n",
    "- 라이브러리를 불러올 때 별칭을 지정할 수도 있습니다.\n",
    "- 이름이 길거나 복잡한 라이브러리의 경우에는 별칭(`alias`)을 지정하여 간단한 이름으로 바꾸어 사용할수도 있습니다.\n",
    "- `as`로 별칭을 지정하고 불러오는 라이브러리는 실제 코드를 작성할 때 해당 별칭을 이용하면 됩니다."
   ]
  },
  {
   "cell_type": "markdown",
   "metadata": {},
   "source": [
    "- range()는 작성한 범위 만큼의 수를 생성하여 냅니다. `기본적으로 그 자료형은 range() 자료형` 입니다.\n",
    "- range()를 사용할 때에는 `마지막 수를 포함하지 않음에 주의`하여야 합니다.\n",
    "- range()의 값을 확인하기 위해서는 `list()등으로 자료형을 변환`하여 주어야 합니다."
   ]
  },
  {
   "cell_type": "code",
   "execution_count": null,
   "metadata": {},
   "outputs": [],
   "source": [
    "# 이 셀의 코드를 실행하세요\n",
    "\n",
    "print(range(1, 46))\n",
    "print(type(range(1, 46)))\n",
    "\n",
    "print(list(range(1, 46)))\n",
    "print(type(list(range(1, 46))))"
   ]
  },
  {
   "cell_type": "markdown",
   "metadata": {},
   "source": [
    "- sample() 함수는 `random 라이브러리 내에 정의되어 있는 함수`로, 첫번째 인자로 제공된 수를 `중복없이` 두번째 인자 개수 만큼 추출하여 리스트로 반환합니다."
   ]
  },
  {
   "cell_type": "code",
   "execution_count": 7,
   "metadata": {
    "ExecuteTime": {
     "end_time": "2023-05-31T02:20:14.534457Z",
     "start_time": "2023-05-31T02:20:14.514515Z"
    }
   },
   "outputs": [
    {
     "name": "stdout",
     "output_type": "stream",
     "text": [
      "이번 주의 로또 번호는 [36, 26, 14, 33, 41, 37] 입니다.\n"
     ]
    }
   ],
   "source": [
    "# 이 셀의 코드를 실행하세요\n",
    "\n",
    "import random as rd\n",
    "\n",
    "nums = rd.sample(range(1, 46), 6)\n",
    "print(f\"이번 주의 로또 번호는 {nums} 입니다.\")"
   ]
  },
  {
   "cell_type": "markdown",
   "metadata": {},
   "source": [
    "###### 개념설명\n",
    "### 3. from 라이브러리명 import 함수명, 클래스명, 변수명, 상수명, *(전체 불러오기)\n",
    "\n",
    "- 라이브러리의 특정 요소를 불러오기 위해서는 `from` 구문과 함께 사용하여 `특정 요소만을 효율적`으로 불러올 수도 있습니다.\n",
    "- `라이브러리명을 사용시마다 앞에 붙이지 않아도 됩니다`.\n",
    "- *는 전체를 불러올 수 있습니다."
   ]
  },
  {
   "cell_type": "code",
   "execution_count": null,
   "metadata": {
    "ExecuteTime": {
     "end_time": "2023-05-31T02:20:14.535808Z",
     "start_time": "2023-05-31T02:20:14.534037Z"
    }
   },
   "outputs": [],
   "source": [
    "# 이 셀의 코드를 실행하세요\n",
    "\n",
    "from random import randint\n",
    "\n",
    "score = randint(0, 100)\n",
    "grade = \"\"\n",
    "\n",
    "if score >= 90:\n",
    "    grade = \"A\"\n",
    "elif score >= 80:\n",
    "    grade = \"B\"\n",
    "elif score >= 70:\n",
    "    grade = \"C\"\n",
    "elif score >= 60:\n",
    "    grade = \"D\"\n",
    "else:\n",
    "    grade = \"F\"\n",
    "\n",
    "print(f\"점수는 {score}점이며, 등급은 {grade}입니다.\")"
   ]
  }
 ],
 "metadata": {
  "kernelspec": {
   "display_name": "Python 3 (ipykernel)",
   "language": "python",
   "name": "python3"
  },
  "language_info": {
   "codemirror_mode": {
    "name": "ipython",
    "version": 3
   },
   "file_extension": ".py",
   "mimetype": "text/x-python",
   "name": "python",
   "nbconvert_exporter": "python",
   "pygments_lexer": "ipython3",
   "version": "3.11.5"
  }
 },
 "nbformat": 4,
 "nbformat_minor": 1
}
