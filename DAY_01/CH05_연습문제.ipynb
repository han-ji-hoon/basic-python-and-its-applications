{
 "cells": [
  {
   "cell_type": "markdown",
   "metadata": {},
   "source": [
    "강사 한지훈"
   ]
  },
  {
   "cell_type": "markdown",
   "metadata": {},
   "source": [
    "\n",
    "\n",
    "- 제공한 강의 및 강의자료 등의 다양한 저작물들은 저작권법 제 25조에 따라 수업 목적으로 허용한 범위 안에서만 제공하고 있습니다.\n",
    "- 그 범위를 넘어 저작물들이 이용되는 경우, 저작권 침해 문제가 발생할 수 있습니다.\n",
    "- 저작권 소유자의 승인 없이 복사, 녹화, 복제, 배포, 게시, 전송 등의 방법을 통해 공유 되는 것은 저작권 소유자의 사전 서면 승인된 경우를 제외하고 일체 허용하지 않습니다.\n",
    "\n",
    "- 저작권 문의 : <a href=\"mailto:contact@hanjihoon.com\">contact@hanjihoon.com</a>\n",
    "\n",
    "---"
   ]
  },
  {
   "cell_type": "markdown",
   "metadata": {},
   "source": [
    "###### CHAPTER 05\n",
    "# 연습문제\n",
    "___\n",
    "\n",
    "###### 연습 01\n",
    "\n",
    "### 아래 조건을 만족하는 프로그램을 작성하시기 바랍니다.\n",
    "\n",
    "- 하나의 문자가 포함된 리스트가 매개변수의 arr인자로 전달됩니다.\n",
    "- arr의 문자열을 하나의 문자열로 결합하여 반환하는 코드를 solution() 함수 안에 작성하시기 바랍니다."
   ]
  },
  {
   "cell_type": "code",
   "execution_count": 1,
   "metadata": {
    "ExecuteTime": {
     "end_time": "2023-06-26T04:52:31.060334Z",
     "start_time": "2023-06-26T04:52:31.053553Z"
    }
   },
   "outputs": [],
   "source": [
    "# 함수 블록\n",
    "# 아래 함수 안에 여러분이 생각하시는 정답의 코드를 작성하세요.\n",
    "\n",
    "def solution01(arr: list) -> str:\n",
    "    answer = ''\n",
    "\n",
    "    # 여기 아래부터 정답 코드를 작성하십시오. 최종 결과는 answer에 담아서 반환하시면 됩니다.\n",
    "\n",
    "\n",
    "    return answer\n",
    "\n",
    "# 코드 작성 후, 본 셀을 반드시 실행을 한 후 테스트 블록을 실행하시기 바랍니다."
   ]
  },
  {
   "cell_type": "code",
   "execution_count": null,
   "metadata": {},
   "outputs": [],
   "source": [
    "# 테스트 블록\n",
    "# 실행 전 반드시 작성한 함수 블록을 실행하시기 바랍니다.\n",
    "\n",
    "expected_answer01 = \"hello\"\n",
    "arr01 = ['h', 'e', 'l', 'l', 'o']\n",
    "answer01 = solution01(arr01)\n",
    "\n",
    "print(f\"Answer Correct : {answer01}\" if answer01 == expected_answer01 else f\"Wrong Answer : {answer01}\")"
   ]
  },
  {
   "cell_type": "markdown",
   "metadata": {},
   "source": [
    "###### 연습 02\n",
    "\n",
    "### 아래 조건을 만족하는 프로그램을 작성하시기 바랍니다.\n",
    "\n",
    "- 여러 정수로 정의된 리스트가 주어집니다.\n",
    "- 리스트의 각 정수에 대해서 양수인지를 판단하는 새로운 리스트를 반환하는 코드를 작성하시기 바랍니다.\n",
    "- 양수일 경우 True를, 음수일 경우 False를 반환합니다.\n",
    "- 만약 리스트의 요소에 대해 0이 나타나는 경우, 프로그램은 그 즉시 중단됩니다."
   ]
  },
  {
   "cell_type": "code",
   "execution_count": null,
   "metadata": {},
   "outputs": [],
   "source": [
    "# 함수 블록\n",
    "# 아래 함수 안에 여러분이 생각하시는 정답의 코드를 작성하세요.\n",
    "\n",
    "def solution02(arr: list) -> list:\n",
    "    answer = []\n",
    "\n",
    "    # 여기 아래부터 정답 코드를 작성하십시오. 최종 결과는 answer에 담아서 반환하시면 됩니다.\n",
    "\n",
    "\n",
    "\n",
    "    return answer\n",
    "\n",
    "# 코드 작성 후, 본 셀을 반드시 실행을 한 후 테스트 블록을 실행하시기 바랍니다."
   ]
  },
  {
   "cell_type": "code",
   "execution_count": null,
   "metadata": {},
   "outputs": [],
   "source": [
    "# 테스트 블록\n",
    "# 실행 전 반드시 작성한 함수 블록을 실행하시기 바랍니다.\n",
    "\n",
    "expected_answer02 = [False, True, True, True, False, True, True, True, False, False, True]\n",
    "arr02 = [-5, 4, 5, 12, -1, 4, 5, 32, -5, -56, 7, 0 ,-9, 1]\n",
    "answer02 = solution02(arr02)\n",
    "\n",
    "print(f\"Answer Correct : {answer02}\" if answer02 == expected_answer02 else f\"Wrong Answer : {answer02}\")"
   ]
  },
  {
   "cell_type": "markdown",
   "metadata": {},
   "source": [
    "###### 연습 03\n",
    "### 아래 조건을 만족하는 프로그램을 작성하시기 바랍니다.\n",
    "\n",
    "- 중첩된 리스트가 주어집니다.\n",
    "- 가장 안쪽의 리스트에는 영문자가 포함되어 있습니다.\n",
    "- 가장 안쪽의 리스트에 포함된 영문자를 이전 영문자까지 하나의 문자열로 결합하여 반환하는 코드를 작성하시기 바랍니다.\n",
    "\n",
    "#### 예시\n",
    "``` python\n",
    "[[\"a\", \"b\", \"c\"], [\"d\", \"e\", \"f\"], [\"g\", \"h\", \"i\"]]\n",
    "```\n",
    "- 위 리스트는 아래와 같이 변환되어야 합니다.\n",
    "``` python\n",
    "[['a', 'ab', 'abc'], ['d', 'de', 'def'], ['g', 'gh', 'ghi']]\n",
    "```"
   ]
  },
  {
   "cell_type": "code",
   "execution_count": null,
   "metadata": {},
   "outputs": [],
   "source": [
    "# 함수 블록\n",
    "# 아래 함수 안에 여러분이 생각하시는 정답의 코드를 작성하세요.\n",
    "\n",
    "def solution03(arr: list) -> list:\n",
    "    answer = []\n",
    "\n",
    "    # 여기 아래부터 정답 코드를 작성하십시오. 최종 결과는 answer에 담아서 반환하시면 됩니다.\n",
    "\n",
    "\n",
    "    return answer\n",
    "\n",
    "# 코드 작성 후, 본 셀을 반드시 실행을 한 후 테스트 블록을 실행하시기 바랍니다."
   ]
  },
  {
   "cell_type": "code",
   "execution_count": null,
   "metadata": {},
   "outputs": [],
   "source": [
    "# 테스트 블록\n",
    "# 실행 전 반드시 작성한 함수 블록을 실행하시기 바랍니다.\n",
    "\n",
    "expected_answer03 = [['a', 'ab', 'abc'], ['d', 'de', 'def'], ['g', 'gh', 'ghi']]\n",
    "arr03 = [[\"a\", \"b\", \"c\"], [\"d\", \"e\", \"f\"], [\"g\", \"h\", \"i\"]]\n",
    "answer03 = solution03(arr03)\n",
    "\n",
    "print(f\"Answer Correct : {answer03}\" if answer03 == expected_answer03 else f\"Wrong Answer : {answer03}\")"
   ]
  },
  {
   "cell_type": "markdown",
   "metadata": {},
   "source": [
    "###### 연습 04\n",
    "\n",
    "### 아래 조건을 만족하는 프로그램을 작성하시기 바랍니다.\n",
    "\n",
    "- 리스트 요소로 딕셔너리가 주어집니다.\n",
    "- 딕셔너리의 키와 값을 포함하는 리스트를 만들어 반환하시기를 바랍니다.\n",
    "\n",
    "#### 예시\n",
    "``` python\n",
    "[{'a': 1, 'b': 2}, {'c': 3, 'd': 4}]\n",
    "```\n",
    "- 위 리스트와 리스트 요소인 딕셔너리는 아래와 같이 변환되어야 합니다.\n",
    "``` python\n",
    "[[['a', 1], ['b', 2]], [['c', 3], ['d', 4]]]\n",
    "```\n"
   ]
  },
  {
   "cell_type": "code",
   "execution_count": null,
   "metadata": {},
   "outputs": [],
   "source": [
    "# 함수 블록\n",
    "# 아래 함수 안에 여러분이 생각하시는 정답의 코드를 작성하세요.\n",
    "\n",
    "def solution04(arr: list) -> list:\n",
    "    answer = []\n",
    "\n",
    "    # 여기 아래부터 정답 코드를 작성하십시오. 최종 결과는 answer에 담아서 반환하시면 됩니다.\n",
    "\n",
    "\n",
    "    return answer\n",
    "\n",
    "# 코드 작성 후, 본 셀을 반드시 실행을 한 후 테스트 블록을 실행하시기 바랍니다."
   ]
  },
  {
   "cell_type": "code",
   "execution_count": null,
   "metadata": {},
   "outputs": [],
   "source": [
    "# 테스트 블록\n",
    "# 실행 전 반드시 작성한 함수 블록을 실행하시기 바랍니다.\n",
    "\n",
    "expected_answer04 = [[['a', 1], ['b', 2]], [['c', 3], ['d', 4]]]\n",
    "arr04 = [{'a': 1, 'b': 2}, {'c': 3, 'd': 4}]\n",
    "answer04 = solution04(arr04)\n",
    "\n",
    "print(f\"Answer Correct : {answer04}\" if answer04 == expected_answer04 else f\"Wrong Answer : {answer04}\")"
   ]
  },
  {
   "cell_type": "markdown",
   "metadata": {},
   "source": [
    "###### 연습 05\n",
    "\n",
    "### 아래 조건을 만족하는 프로그램을 작성하시기 바랍니다.\n",
    "\n",
    "- 적절한 라이브러리가 선택되어야 합니다.\n",
    "- 로또 번호 추첨기를 만들어야 합니다.\n",
    "- 로또 번호는 1부터 45까지의 숫자 중 6개를 무작위로 추출합니다.\n",
    "- 추출된 로또 번호는 오름차순으로 정렬합니다.\n",
    "- 6개의 숫자는 중복되서는 안됩니다.\n",
    "- 중복되지 않는 6개의 숫자를, 5번 뽑아 리스트에 추가하시기 바랍니다.\n",
    "- 해당 문제에서는 `random 라이브러리의 sample() 함수를 이용`하지 마시기 바랍니다.\n",
    "\n",
    "#### 예시\n",
    "``` python\n",
    "[[1, 2, 3, 4, 5, 6],\n",
    " [7, 8, 9, 10, 11, 12],\n",
    " [13, 14, 15, 16, 17, 18],\n",
    " [19, 20, 21, 22, 23, 24],\n",
    " [25, 26, 27, 28, 29, 30]]\n",
    "```"
   ]
  },
  {
   "cell_type": "code",
   "execution_count": null,
   "metadata": {},
   "outputs": [],
   "source": [
    "# 아래에 필요한 라이브러리를 불러오세요.\n",
    "\n",
    "import random\n",
    "\n",
    "# 함수 블록\n",
    "# 아래 함수 안에 여러분이 생각하시는 정답의 코드를 작성하세요.\n",
    "\n",
    "def solution05() -> list:\n",
    "    answer = []\n",
    "\n",
    "    # 여기 아래부터 정답 코드를 작성하십시오. 최종 결과는 answer에 담아서 반환하시면 됩니다.\n",
    "\n",
    "\n",
    "    return answer\n",
    "\n",
    "# 코드 작성 후, 본 셀을 반드시 실행을 한 후 테스트 블록을 실행하시기 바랍니다."
   ]
  },
  {
   "cell_type": "code",
   "execution_count": null,
   "metadata": {},
   "outputs": [],
   "source": [
    "# 테스트 블록\n",
    "# 실행 전 반드시 작성한 함수 블록을 실행하시기 바랍니다.\n",
    "\n",
    "answer05 = solution05()\n",
    "print(answer05)"
   ]
  }
 ],
 "metadata": {
  "kernelspec": {
   "display_name": "Python 3 (ipykernel)",
   "language": "python",
   "name": "python3"
  },
  "language_info": {
   "codemirror_mode": {
    "name": "ipython",
    "version": 3
   },
   "file_extension": ".py",
   "mimetype": "text/x-python",
   "name": "python",
   "nbconvert_exporter": "python",
   "pygments_lexer": "ipython3",
   "version": "3.9.13"
  }
 },
 "nbformat": 4,
 "nbformat_minor": 1
}
