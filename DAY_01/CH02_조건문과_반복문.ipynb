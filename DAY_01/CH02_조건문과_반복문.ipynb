{
 "cells": [
  {
   "cell_type": "markdown",
   "metadata": {},
   "source": [
    "강사 한지훈"
   ]
  },
  {
   "cell_type": "markdown",
   "metadata": {},
   "source": [
    "\n",
    "\n",
    "- 제공한 강의 및 강의자료 등의 다양한 저작물들은 저작권법 제 25조에 따라 수업 목적으로 허용한 범위 안에서만 제공하고 있습니다.\n",
    "- 그 범위를 넘어 저작물들이 이용되는 경우, 저작권 침해 문제가 발생할 수 있습니다.\n",
    "- 저작권 소유자의 승인 없이 복사, 녹화, 복제, 배포, 게시, 전송 등의 방법을 통해 공유 되는 것은 저작권 소유자의 사전 서면 승인된 경우를 제외하고 일체 허용하지 않습니다.\n",
    "\n",
    "- 저작권 문의 : <a href=\"mailto:contact@hanjihoon.com\">contact@hanjihoon.com</a>\n",
    "\n",
    "---"
   ]
  },
  {
   "cell_type": "markdown",
   "metadata": {},
   "source": [
    "###### CHAPTER 02\n",
    "# 조건문 및 반복문\n"
   ]
  },
  {
   "cell_type": "markdown",
   "metadata": {},
   "source": [
    "\n",
    "###### 개념설명\n",
    "## 조건 및 반복문\n",
    "\n",
    "- 조건문과 반복문은 코드의 흐름을 제어하는데 사용됩니다.\n",
    "- 조건에 따라 각기 다른 코드를 실행하고자 할 때 `조건문`을 사용합니다.\n",
    "- 조건에 따라 코드를 반복하고자 할 때 `반복문`을 사용합니다."
   ]
  },
  {
   "cell_type": "markdown",
   "metadata": {},
   "source": [
    "\n",
    "- 조건문은 `if`, `elif`, `else` 키워드와 각각의 코드블록으로 구성됩니다.\n",
    "- 반복문은 `for`, `while` 키워드로 각각 다른 역할의 반복문을 구성할 수 있습니다.\n",
    "\n"
   ]
  },
  {
   "cell_type": "markdown",
   "metadata": {},
   "source": [
    "- 이때 각 코드 블록은 `들여쓰기로 구분`됩니다.\n",
    "- 반복문 및 조건문을 작성한 수준보다 `하위 수준의 코드 블록이 해당 조건 및 반복문에 영향`을 받습니다.\n",
    "- 코드의 블록은 `콜론(:)으로 시작`합니다.\n",
    "- 코드의 블록은 `들여쓰기가 끝나는 지점`까지입니다.\n",
    "- 들여쓰기는 `공백 4칸 또는 탭`으로 구분됩니다.\n",
    "- 코드의 블록은 다른 코드의 블록에 포함될 수 있습니다."
   ]
  },
  {
   "cell_type": "markdown",
   "metadata": {},
   "source": [
    "---\n",
    "###### 개념설명\n",
    "## 조건문에 대해서\n",
    "\n",
    "- 조건문은 `참(True) 또는 거짓(False)을 반환하는` 구문을 의미합니다.\n",
    "- 조건을 판단하는 연산자는 `비교 연산자와 논리 연산자`가 있습니다.\n",
    "- 비교 연산자와 논리 연산자의 결과는 `참 또는 거짓`입니다.\n",
    "\n"
   ]
  },
  {
   "cell_type": "markdown",
   "metadata": {},
   "source": [
    "- 파이썬에서 이러한 `True`와 `False`라는 값을 `논리자료형(Boolean)`이라고 합니다.\n",
    "- 각각의 값은 참과 거짓을 의미하며, 논리자료형에는 이 두 값만이 존재합니다.\n",
    "- 이러한 `논리자료형`과 조건을 기술할 수 있는 `비교연산자`는 밀접한 관계를 가집니다."
   ]
  },
  {
   "cell_type": "markdown",
   "metadata": {
    "ExecuteTime": {
     "end_time": "2023-05-31T02:17:14.486497Z",
     "start_time": "2023-05-31T02:17:14.483221Z"
    }
   },
   "source": [
    "- 아래의 조건은 거짓이므로 `Fasle`값이 연산되어 나옵니다."
   ]
  },
  {
   "cell_type": "code",
   "execution_count": null,
   "metadata": {},
   "outputs": [],
   "source": [
    "# 이 셀의 코드를 실행하세요\n",
    "\n",
    "print(1 > 2)\n",
    "print(type(1 > 2))"
   ]
  },
  {
   "cell_type": "markdown",
   "metadata": {},
   "source": [
    "- 아래의 조건은 참이므로 `True`값이 연산되어 나옵니다."
   ]
  },
  {
   "cell_type": "code",
   "execution_count": null,
   "metadata": {
    "ExecuteTime": {
     "end_time": "2023-05-31T02:17:14.489146Z",
     "start_time": "2023-05-31T02:17:14.486845Z"
    }
   },
   "outputs": [],
   "source": [
    "# 이 셀의 코드를 실행하세요\n",
    "\n",
    "print(1 < 2)\n",
    "print(type(1 < 2))"
   ]
  },
  {
   "cell_type": "markdown",
   "metadata": {},
   "source": [
    "- 파이썬에서 `같음`을 의미하는 비교연산자는 `==` 입니다."
   ]
  },
  {
   "cell_type": "code",
   "execution_count": null,
   "metadata": {
    "ExecuteTime": {
     "end_time": "2023-05-31T02:17:14.494692Z",
     "start_time": "2023-05-31T02:17:14.491841Z"
    }
   },
   "outputs": [],
   "source": [
    "# 이 셀의 코드를 실행하세요\n",
    "\n",
    "print(1 == 1)\n",
    "print(type(1 == 1))"
   ]
  },
  {
   "cell_type": "markdown",
   "metadata": {},
   "source": [
    "---\n",
    "###### 개념설명\n",
    "## 조건문의 사용\n",
    "\n",
    "- 조건문은 `if`, `elif`, `else`로 구성됩니다."
   ]
  },
  {
   "cell_type": "code",
   "execution_count": null,
   "metadata": {},
   "outputs": [],
   "source": [
    "# 이 셀의 코드를 실행하세요\n",
    "\n",
    "condition = True\n",
    "\n",
    "if condition:\n",
    "    print(\"이 코드블록은 조건문(condition)의 결과값이 참일 때만 실행됩니다.\")"
   ]
  },
  {
   "cell_type": "code",
   "execution_count": null,
   "metadata": {
    "ExecuteTime": {
     "end_time": "2023-05-31T02:17:14.538013Z",
     "start_time": "2023-05-31T02:17:14.497331Z"
    }
   },
   "outputs": [],
   "source": [
    "# 이 셀의 코드를 실행하세요\n",
    "\n",
    "condition = True\n",
    "\n",
    "if condition:\n",
    "    print(\"이 코드블록은 조건문(condition)의 결과값이 참일 때만 실행됩니다.\")\n",
    "else:\n",
    "    print(\"이 코드블록은 조건문(condition)의 결과값이 거짓일 때만 실행됩니다.\")"
   ]
  },
  {
   "cell_type": "code",
   "execution_count": null,
   "metadata": {},
   "outputs": [],
   "source": [
    "# 이 셀의 코드를 실행하세요\n",
    "\n",
    "condition = False\n",
    "\n",
    "if condition:\n",
    "    print(\"이 코드블록은 조건문(condition)의 결과값이 참일 때만 실행됩니다.\")\n",
    "else:\n",
    "    print(\"이 코드블록은 조건문(condition)의 결과값이 거짓일 때만 실행됩니다.\")"
   ]
  },
  {
   "cell_type": "code",
   "execution_count": null,
   "metadata": {},
   "outputs": [],
   "source": [
    "# 이 셀의 코드를 실행하세요\n",
    "\n",
    "score = 100\n",
    "\n",
    "if score > 90:\n",
    "    print(\"이 코드블록은 조건문(score)의 결과값이 90초과일때만 실행됩니다.\")\n",
    "elif score > 80:\n",
    "    print(\"이 코드블록은 조건문(score)의 결과값이 80초과일때만 실행됩니다.\")\n",
    "else:\n",
    "    print(\"이 코드블록은 조건문(score)의 결과값이 선행하는 모든 조건에 해당되지 않을 때 실행됩니다.\")"
   ]
  },
  {
   "cell_type": "markdown",
   "metadata": {},
   "source": [
    "---\n",
    "###### 개념설명\n",
    "## 반복문의 사용\n",
    "\n",
    "- 반복문은 `for` 또는 `while`로 구성됩니다.\n",
    "- 반복문은 `코드의 블록을 반복적으로 실행`합니다.\n",
    "- `while문은 조건이 참일 때 코드의 블록을 반복적으로 실행`합니다.\n",
    "- `for문은 시퀀스의 요소를 순차적으로 실행`합니다."
   ]
  },
  {
   "cell_type": "markdown",
   "metadata": {},
   "source": [
    "- 시퀀스 데이터를 `for문으로 순차적으로 실행`할 수 있습니다.\n",
    "- 시퀀스 데이터는 `리스트, 튜플, 문자열` 등이 있습니다."
   ]
  },
  {
   "cell_type": "code",
   "execution_count": null,
   "metadata": {
    "ExecuteTime": {
     "end_time": "2023-05-31T02:17:14.538418Z",
     "start_time": "2023-05-31T02:17:14.507902Z"
    }
   },
   "outputs": [],
   "source": [
    "# 이 셀의 코드를 실행하세요\n",
    "\n",
    "nums = [0, 1, 2, 3, 4, 5]\n",
    "\n",
    "for num in nums:  # nums 부분에 리스트와 같은 반복 가능한 요소가 들어갑니다.\n",
    "    print(num) # 위에서 지정한 num에는 순서대로 내부 요소가 하나씩 할당되며, 변경된 변수의 값으로 블록의 코드가 반복되어 실행됩니다."
   ]
  },
  {
   "cell_type": "markdown",
   "metadata": {},
   "source": [
    "- `중첩된 리스트에서의 반복문을 사용`할 수 있습니다.\n",
    "- 이러한 경우 `중첩For문을 통하여 모든 데이터를 추출`할 수 있습니다.\n",
    "- For문의 수행 순서와 그 결과값을 직접 확인해보시기 바랍니다.\n",
    "-` 블록 수준에 각별히 주의`하시기 바랍니다."
   ]
  },
  {
   "cell_type": "code",
   "execution_count": null,
   "metadata": {
    "ExecuteTime": {
     "end_time": "2023-06-01T01:36:07.001229Z",
     "start_time": "2023-06-01T01:36:06.997010Z"
    }
   },
   "outputs": [],
   "source": [
    "# 이 셀의 코드를 실행하세요\n",
    "\n",
    "nested_nums = [[1, 2, 3], [4, 5, 6], [7, 8, 9]]\n",
    "\n",
    "for nums in nested_nums:\n",
    "    print(nums)\n",
    "    for num in nums:\n",
    "        print(num)"
   ]
  },
  {
   "cell_type": "markdown",
   "metadata": {},
   "source": [
    "- `딕셔너리에서도 반복문`을 사용할 수 있습니다.\n",
    "- 이때 딕셔너리를 직접 사용하기보다는 `keys()`, `values()`, `items()`와 함께 사용됩니다."
   ]
  },
  {
   "cell_type": "code",
   "execution_count": null,
   "metadata": {},
   "outputs": [],
   "source": [
    "alpha_nums = {'a':1, 'b':2, 'c':3}\n",
    "\n",
    "# 이 셀의 코드를 실행하세요\n",
    "\n",
    "for alphabet, num in alpha_nums.items():\n",
    "    print(alphabet, num)"
   ]
  },
  {
   "cell_type": "markdown",
   "metadata": {},
   "source": [
    "- `while 문은 특정 조건이 만족될 때까지 코드블록을 반복`합니다."
   ]
  },
  {
   "cell_type": "code",
   "execution_count": null,
   "metadata": {},
   "outputs": [],
   "source": [
    "# 이 셀의 코드를 실행하세요\n",
    "\n",
    "i = 0\n",
    "while i < 10:\n",
    "    print(i)\n",
    "    i = i + 1"
   ]
  },
  {
   "cell_type": "markdown",
   "metadata": {},
   "source": [
    "- while과 for와 같은 반복문에 대해서 `break 키워드는 그 즉시 수행을 중단시키고 반복문을 탈출`합니다.\n",
    "- 아래 코드는 `i가 5가 될 때 반복문의 수행을 탈출`합니다. 따라서 `0에서 4까지의 데이터`가 나타납니다."
   ]
  },
  {
   "cell_type": "code",
   "execution_count": null,
   "metadata": {},
   "outputs": [],
   "source": [
    "# 이 셀의 코드를 실행하세요\n",
    "\n",
    "i = 0\n",
    "while i < 10:\n",
    "    if i == 5:\n",
    "        break\n",
    "    print(i)\n",
    "    i = i + 1"
   ]
  },
  {
   "cell_type": "markdown",
   "metadata": {},
   "source": [
    "- `for문에서도 break`를 수행할 수 있습니다.\n",
    "- 아래 코드는 `num이 4가 될 때 반복문의 수행을 탈출`합니다. 따라서 `0에서 3까지의 데이터`가 나타납니다."
   ]
  },
  {
   "cell_type": "code",
   "execution_count": null,
   "metadata": {},
   "outputs": [],
   "source": [
    "# 이 셀의 코드를 실행하세요\n",
    "\n",
    "nums = [0, 1, 2, 3, 4, 5, 6]\n",
    "\n",
    "for num in nums:\n",
    "    if num == 4:\n",
    "        break\n",
    "    print(num)"
   ]
  }
 ],
 "metadata": {
  "kernelspec": {
   "display_name": "Python 3 (ipykernel)",
   "language": "python",
   "name": "python3"
  },
  "language_info": {
   "codemirror_mode": {
    "name": "ipython",
    "version": 3
   },
   "file_extension": ".py",
   "mimetype": "text/x-python",
   "name": "python",
   "nbconvert_exporter": "python",
   "pygments_lexer": "ipython3",
   "version": "3.11.5"
  }
 },
 "nbformat": 4,
 "nbformat_minor": 1
}
