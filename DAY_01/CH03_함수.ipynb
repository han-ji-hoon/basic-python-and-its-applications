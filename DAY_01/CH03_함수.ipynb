{
 "cells": [
  {
   "cell_type": "markdown",
   "metadata": {},
   "source": [
    "강사 한지훈"
   ]
  },
  {
   "cell_type": "markdown",
   "metadata": {},
   "source": [
    "\n",
    "\n",
    "- 제공한 강의 및 강의자료 등의 다양한 저작물들은 저작권법 제 25조에 따라 수업 목적으로 허용한 범위 안에서만 제공하고 있습니다.\n",
    "- 그 범위를 넘어 저작물들이 이용되는 경우, 저작권 침해 문제가 발생할 수 있습니다.\n",
    "- 저작권 소유자의 승인 없이 복사, 녹화, 복제, 배포, 게시, 전송 등의 방법을 통해 공유 되는 것은 저작권 소유자의 사전 서면 승인된 경우를 제외하고 일체 허용하지 않습니다.\n",
    "\n",
    "- 저작권 문의 : <a href=\"mailto:contact@hanjihoon.com\">contact@hanjihoon.com</a>\n",
    "\n",
    "---"
   ]
  },
  {
   "cell_type": "markdown",
   "metadata": {},
   "source": [
    "###### CHAPTER 04\n",
    "# 해당 강의에 대한 필수적인 파이썬 기초 : 함수\n",
    "---\n",
    "###### 개념설명\n",
    "# 함수에 대하여\n",
    "\n",
    "- 함수는 `특정 작업을 수행하는 코드의 묶음`입니다.\n",
    "- 함수는 반복적으로 실행되는 코드를 매번 치지 않고 함수의 이름만으로 실행할 수 있게 만들어 줍니다.\n",
    "- 따라서 함수를 사용하면 `의미구조가 명확해지고, 재사용성이 높아집니다. 효율적으로 코드를 관리`할 수 있게 해줍니다.\n",
    "- 함수는 `인자와 함수가 수행할 코드, 반환값`으로 구성됩니다."
   ]
  },
  {
   "cell_type": "markdown",
   "metadata": {},
   "source": [
    "###### 개념설명\n",
    "## 함수의 구성\n",
    "\n",
    "- 함수의 이름과 `매개 변수(인자, Parameter)`, `실행 구문`, `반환값(리턴값, Return)`으로 구성됩니다.\n",
    "- 반환값이 있을 수도 없을 수도 있습니다.\n",
    "- 매개변수는 있을 수도 없을 수도 있습니다."
   ]
  },
  {
   "cell_type": "code",
   "execution_count": null,
   "metadata": {
    "ExecuteTime": {
     "end_time": "2023-05-31T02:18:44.483034Z",
     "start_time": "2023-05-31T02:18:44.471630Z"
    }
   },
   "outputs": [],
   "source": [
    "# 이 셀의 코드를 실행하세요\n",
    "\n",
    "def sum(a, b):\n",
    "    result = a + b\n",
    "    return result"
   ]
  },
  {
   "cell_type": "code",
   "execution_count": null,
   "metadata": {},
   "outputs": [],
   "source": [
    "# 위 코드 셀을 반드시 실행한 후, 이 셀의 코드를 실행하세요\n",
    "\n",
    "print(sum(1, 2))"
   ]
  },
  {
   "cell_type": "markdown",
   "metadata": {},
   "source": [
    "- 위의 함수를 보면 def라는 키워드가 작성되어 있습니다. `def`라는 키워드를 통하여 함수를 만들 수 있습니다.\n",
    "    - 함수를 정의하고 나서, `반드시 한 번 이상 실행`을 해주어야 해당 함수를 사용할 수 있습니다.\n",
    "- `def` 키워드 다음에는 함수의 이름이 작성됩니다.\n",
    "    - 위 함수의 이름은 `sum`입니다.\n",
    "- 함수의 이름 다음 괄호에는 건네받을 `인자의 이름`을 작성합니다.\n",
    "    - 위 함수에서는 `(a, b)`에서 볼 수 있듯이, 각각 `a`라는 이름과 `b`라는 이름의 2개의 인자를 받고 있습니다.\n",
    "- 해당 건네받은 인자는 함수 코드 안에서 해당 이름으로 사용할 수 있습니다.\n",
    "    - 함수 안쪽의 코드를 보면 2번째 줄에서 `a + b`로, 인자를 이용하여 값을 계산하고 있음을 확인할 수 있습니다.\n",
    "- 함수에서 실행할 코드를 작성할 때에는 **`들여쓰기를 반드시 해주어야 합니다.`**\n",
    "    - 들여쓰기는 `tab 한 번` 또는 `띄어쓰기 4칸`으로 지정할 수 있습니다.\n",
    "- `return` 키워드 뒤에는 함수의 실행이 끝나고 다시 되돌려 줄 반환값을 지정합니다.\n",
    "    - 위에서는 `result 값`을 함수를 실행한 곳으로 반환하여 주고 있습니다.\n",
    "- 함수를 사용할 때에는 `함수의 이름`과 `인자에 전달하길 원하는 값`이나 변수를 입력하면 됩니다.\n",
    "    - 위에서는 `sum(1, 2)`이라는 코드를 통하여 `sum`이라는 이름의 함수를 사용하고 있습니다.\n",
    "    - `(1, 2)`를 통해 `a와 b에 각각 1과 2라는 값`을 전달하고 있습니다.\n",
    "    - sum(1, 2)은 함수의 실행이 끝나면 그 결과값 `3`을 반환합니다. `print 함수는 인자로 전달된 값을 출력`하므로, `3이 출력`됩니다."
   ]
  },
  {
   "cell_type": "markdown",
   "metadata": {},
   "source": [
    "###### 개념설명\n",
    "## 매개변수의 사용\n",
    "\n",
    "- 매개변수란 함수를 호출할 때 함수에 전달하는 값입니다.\n",
    "- 매개변수에 기본값을 지정할 수 있습니다.\n",
    "- 매개변수에 기본값이 지정된 매개변수는 맨 뒤에 위치해야 합니다.\n",
    "- 매개변수에 기본값이 지정된 매개변수는 생략할 수 있습니다.\n",
    "- 매개변수에 기본값이 지정된 매개변수는 생략할 경우 기본값이 매개변수에 저장됩니다."
   ]
  },
  {
   "cell_type": "markdown",
   "metadata": {},
   "source": [
    "- `순서대로 인자를 전달할 수 있으며, 이때는 별도의 인자 이름을 명시하지 않아도 됩니다`.\n",
    "- 순서에 따라 인자를 전달하지 않을 시에는 `인자의 이름을 병기`하여 주어야 합니다.\n",
    "- `기본값이 있는 인자의 경우에는 별도로 지정하지 않아도` 됩니다."
   ]
  },
  {
   "cell_type": "code",
   "execution_count": 2,
   "metadata": {
    "ExecuteTime": {
     "end_time": "2023-05-31T02:18:44.484812Z",
     "start_time": "2023-05-31T02:18:44.483492Z"
    }
   },
   "outputs": [],
   "source": [
    "# 이 셀의 코드를 실행하세요\n",
    "\n",
    "def sub(a, b):\n",
    "    result = a - b\n",
    "    return result"
   ]
  },
  {
   "cell_type": "code",
   "execution_count": null,
   "metadata": {},
   "outputs": [],
   "source": [
    "# 위 코드 셀을 반드시 실행한 후, 이 셀의 코드를 실행하세요\n",
    "\n",
    "result = sub(b=10, a=5)\n",
    "print(result)"
   ]
  },
  {
   "cell_type": "markdown",
   "metadata": {},
   "source": [
    "- 위 함수 실행의 경우에는 `인자의 순서를 인자가 정의된 순서로 기입하고 있지 아니`합니다.\n",
    "    - 따라서 각각의 `인자이름을 기술하여 순서가 기준이 아닌, 인자의 이름을 기준으로 각 인자가 할당`되도록 하고 있습니다.\n",
    "- 인자 이름을 기술 한 `이후의 인자는 그 순서에 들어맞더라도 반드시 인자의 이름을 기술`하여야 합니다."
   ]
  },
  {
   "cell_type": "code",
   "execution_count": 5,
   "metadata": {},
   "outputs": [],
   "source": [
    "# 이 셀의 코드를 실행하세요\n",
    "\n",
    "def sub(a=10, b=10):\n",
    "    result = a - b\n",
    "    return result"
   ]
  },
  {
   "cell_type": "code",
   "execution_count": null,
   "metadata": {},
   "outputs": [],
   "source": [
    "# 위 코드 셀을 반드시 실행한 후, 이 셀의 코드를 실행하세요\n",
    "\n",
    "result = sub()\n",
    "print(result)"
   ]
  },
  {
   "cell_type": "markdown",
   "metadata": {},
   "source": [
    "- 위에서 함수를 정의할 때 미리 인자에 값을 대입하고 있는 형태를 확인할 수 있습니다.\n",
    "- 이는 인자의 `기본값을 지정하는 것`입니다.\n",
    "- 기본값이 지정되지 않을 경우에 대해서 함수를 실행할 때 `기본값이 지정되지 아니한 인자를 넣지 않는다면 이는 오류`가 발생합니다.\n",
    "- 기본값이 지정된 인자는 함수의 실행 시 `그 값을 입력하지 않더라도 오류가 발생하지 않고 기본값이 자동으로 할당`되게 됩니다."
   ]
  },
  {
   "cell_type": "markdown",
   "metadata": {},
   "source": [
    "###### 개념설명\n",
    "## 반환값의 사용\n",
    "\n",
    "- 반환값이란 함수를 호출한 곳으로 함수의 실행 결과를 전달하는 값입니다.\n",
    "- 반환값이 없는 함수는 호출한 곳으로 None을 전달합니다.\n",
    "- 반환값이 여러 개일 경우 튜플로 반환됩니다.\n",
    "- return 키워드를 사용하면 함수의 실행 결과를 반환하고 함수를 즉시 종료시킬 수 있습니다."
   ]
  },
  {
   "cell_type": "code",
   "execution_count": null,
   "metadata": {
    "ExecuteTime": {
     "end_time": "2023-05-31T02:18:44.496570Z",
     "start_time": "2023-05-31T02:18:44.494552Z"
    }
   },
   "outputs": [],
   "source": [
    "# 이 셀의 코드를 실행하세요\n",
    "\n",
    "def multiple(a, b):\n",
    "    result = a*b\n",
    "    return result"
   ]
  },
  {
   "cell_type": "code",
   "execution_count": null,
   "metadata": {},
   "outputs": [],
   "source": [
    "# 위 코드 셀을 반드시 실행한 후, 이 셀의 코드를 실행하세요\n",
    "\n",
    "result: int = multiple(2, 3)\n",
    "print(result)"
   ]
  },
  {
   "cell_type": "markdown",
   "metadata": {},
   "source": [
    "- 위 함수는 `하나의 결과값`을 `return 키워드`를 통하여 반환합니다.\n",
    "- 반환값은 `변수에 저장하여 추후에 사용`하거나 혹은 `바로 그 값 자체를 사용`하면 됩니다."
   ]
  },
  {
   "cell_type": "code",
   "execution_count": 9,
   "metadata": {},
   "outputs": [],
   "source": [
    "def share_reminder(a, b):\n",
    "    share = a // b\n",
    "    reminder = a % b\n",
    "    return share, reminder"
   ]
  },
  {
   "cell_type": "code",
   "execution_count": null,
   "metadata": {},
   "outputs": [],
   "source": [
    "# 위 코드 셀을 반드시 실행한 후, 이 셀의 코드를 실행하세요\n",
    "\n",
    "print(share_reminder(10, 3))"
   ]
  },
  {
   "cell_type": "markdown",
   "metadata": {},
   "source": [
    "- 위 함수는 return 키워드 뒤에 `2개의 변수가 쉼표(,)로 나열된 것`을 볼 수 있습니다.\n",
    "- 이렇게 `여러 개의 데이터를 반환`할 수도 있습니다.\n",
    "- 반환한 데이터는 `수정이 불가능한 list와 유사한 tuple이라는 자료형`으로 반환됩니다.\n",
    "- tuple은 데이터의 수정만 불가능하며, `데이터의 접근은 list와 동일하게 인덱스를 사용`하면 됩니다."
   ]
  },
  {
   "cell_type": "code",
   "execution_count": 13,
   "metadata": {},
   "outputs": [],
   "source": [
    "# 이 셀의 코드를 실행하세요\n",
    "\n",
    "def print_divide(a, b):\n",
    "    print(a / b)"
   ]
  },
  {
   "cell_type": "code",
   "execution_count": null,
   "metadata": {},
   "outputs": [],
   "source": [
    "# 위 코드 셀을 반드시 실행한 후, 이 셀의 코드를 실행하세요\n",
    "\n",
    "print_divide(10, 2)"
   ]
  },
  {
   "cell_type": "markdown",
   "metadata": {},
   "source": [
    "- 위 함수는 `return 키워드가 없습니다`.\n",
    "- 이러한 경우에는 함수는 `행위만 하고 아무것도 반환하지 않습니다`.\n",
    "- 따라서 `위 함수의 결과는 함수 내의 print()를 통하여 출력하고 그 결과는 반환되지 않습니다`."
   ]
  },
  {
   "cell_type": "code",
   "execution_count": 14,
   "metadata": {},
   "outputs": [
    {
     "name": "stdout",
     "output_type": "stream",
     "text": [
      "5.0\n",
      "None\n",
      "<class 'NoneType'>\n"
     ]
    }
   ],
   "source": [
    "result = print_divide(10, 2)\n",
    "print(result)\n",
    "print(type(result))"
   ]
  },
  {
   "cell_type": "markdown",
   "metadata": {},
   "source": [
    "- 따라서` 아무런 반환값이 없기 때문에 변수에 저장할 데이터도 없습니다.`\n",
    "- 변수를 할당하게 된다면 `해당 변수에는 아무것도 없음을 의미`하는 `None`이 할당됩니다.\n",
    "- 따라서 그 값을 저장할 합리적인 이유가 없으며, `따라서 변수를 사용하지 않아도 됩니다.`"
   ]
  }
 ],
 "metadata": {
  "kernelspec": {
   "display_name": "Python 3 (ipykernel)",
   "language": "python",
   "name": "python3"
  },
  "language_info": {
   "codemirror_mode": {
    "name": "ipython",
    "version": 3
   },
   "file_extension": ".py",
   "mimetype": "text/x-python",
   "name": "python",
   "nbconvert_exporter": "python",
   "pygments_lexer": "ipython3",
   "version": "3.11.5"
  }
 },
 "nbformat": 4,
 "nbformat_minor": 1
}
